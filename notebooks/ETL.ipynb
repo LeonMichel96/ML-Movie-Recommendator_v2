{
 "cells": [
  {
   "cell_type": "markdown",
   "id": "7adebbe2",
   "metadata": {},
   "source": [
    "# Extraction-Transform-Load Notebook"
   ]
  },
  {
   "cell_type": "markdown",
   "id": "320d8a8d",
   "metadata": {},
   "source": [
    "This notebook steps will help to access the gz raw datasets from IMDB, store them in the 'extracted_files' folder, filter them and store them as a sql database file"
   ]
  },
  {
   "cell_type": "markdown",
   "id": "c00a57d8",
   "metadata": {},
   "source": [
    "## Extraction Steps"
   ]
  },
  {
   "cell_type": "code",
   "execution_count": 1,
   "id": "63acb25c",
   "metadata": {},
   "outputs": [],
   "source": [
    "import os\n",
    "import gzip\n",
    "import pandas as pd\n",
    "import numpy as np\n",
    "import sqlite3"
   ]
  },
  {
   "cell_type": "code",
   "execution_count": 2,
   "id": "cb146c0f",
   "metadata": {},
   "outputs": [],
   "source": [
    "base_folder = os.getcwd()[:-10]\n",
    "data_sources = os.path.join(base_folder, 'data_sources')\n",
    "raw_files = os.path.join(data_sources, 'raw_files')\n",
    "extracted_files = os.path.join(data_sources, 'extracted_files')"
   ]
  },
  {
   "cell_type": "code",
   "execution_count": 3,
   "id": "33d2720c",
   "metadata": {},
   "outputs": [],
   "source": [
    "files_zipped =['title.ratings.tsv.gz', 'title.basics.tsv.gz', 'title.crew.tsv.gz', 'name.basics.tsv.gz']"
   ]
  },
  {
   "cell_type": "code",
   "execution_count": 4,
   "id": "58dd8daf",
   "metadata": {},
   "outputs": [
    {
     "name": "stderr",
     "output_type": "stream",
     "text": [
      "/var/folders/7t/j9_7cdrd5594tqknpkvcx2gr0000gn/T/ipykernel_27368/3398978090.py:7: DtypeWarning: Columns (4) have mixed types. Specify dtype option on import or set low_memory=False.\n",
      "  df_basics = pd.read_csv(os.path.join(extracted_files, 'title.basics.tsv'), sep= '\\t')\n"
     ]
    }
   ],
   "source": [
    "# First check if there is already data downloaded\n",
    "files_in_folder = os.listdir(extracted_files)\n",
    "\n",
    "if 'title.ratings.tsv' in files_in_folder and 'title.basics.tsv' in files_in_folder \\\n",
    "    and 'title.crew.tsv' in files_in_folder and 'name.basics.tsv' in files_in_folder:\n",
    "    df_ratings = pd.read_csv(os.path.join(extracted_files, 'title.ratings.tsv'), sep= '\\t')\n",
    "    df_basics = pd.read_csv(os.path.join(extracted_files, 'title.basics.tsv'), sep= '\\t')\n",
    "    df_crew = pd.read_csv(os.path.join(extracted_files, 'title.crew.tsv'), sep= '\\t')\n",
    "    df_names = pd.read_csv(os.path.join(extracted_files, 'name.basics.tsv'), sep= '\\t')\n",
    "\n",
    " # If the data has not been downloaded, perform extraction\n",
    "else:\n",
    "    for file in files_zipped:\n",
    "        # Extract zipped content\n",
    "        gzipped_file_path = os.path.join(base_folder, raw_files, file)\n",
    "\n",
    "        with gzip.open(gzipped_file_path, 'rt') as gzipped_file:\n",
    "        # Specify the path to the extracted TSV file (remove '.gz' extension)\n",
    "            extracted_file_path = os.path.join(extracted_files, file[:-3])\n",
    "\n",
    "        # Write the extracted content to the TSV file\n",
    "            with open(extracted_file_path, 'w') as extracted_file:\n",
    "                extracted_file.write(gzipped_file.read())\n",
    "\n",
    "            if file == 'title.ratings.tsv.gz':\n",
    "                df_ratings = pd.read_csv(extracted_file_path, sep='\\t')\n",
    "            elif file == 'title.crew.tsv.gz':\n",
    "                df_crew = pd.read_csv(extracted_file_path, sep='\\t')\n",
    "            elif file == 'name.basics.tsv.gz':\n",
    "                df_names = pd.read_csv(extracted_file_path, sep='\\t')\n",
    "            else:\n",
    "                df_basics = pd.read_csv(extracted_file_path, sep='\\t')\n"
   ]
  },
  {
   "cell_type": "markdown",
   "id": "b5708f05",
   "metadata": {},
   "source": [
    "## Cleaning Steps"
   ]
  },
  {
   "cell_type": "markdown",
   "id": "04dda026",
   "metadata": {},
   "source": [
    "### Basics File"
   ]
  },
  {
   "cell_type": "code",
   "execution_count": 5,
   "id": "16a6cd8c",
   "metadata": {},
   "outputs": [
    {
     "data": {
      "text/html": [
       "<div>\n",
       "<style scoped>\n",
       "    .dataframe tbody tr th:only-of-type {\n",
       "        vertical-align: middle;\n",
       "    }\n",
       "\n",
       "    .dataframe tbody tr th {\n",
       "        vertical-align: top;\n",
       "    }\n",
       "\n",
       "    .dataframe thead th {\n",
       "        text-align: right;\n",
       "    }\n",
       "</style>\n",
       "<table border=\"1\" class=\"dataframe\">\n",
       "  <thead>\n",
       "    <tr style=\"text-align: right;\">\n",
       "      <th></th>\n",
       "      <th>tconst</th>\n",
       "      <th>titleType</th>\n",
       "      <th>primaryTitle</th>\n",
       "      <th>originalTitle</th>\n",
       "      <th>isAdult</th>\n",
       "      <th>startYear</th>\n",
       "      <th>endYear</th>\n",
       "      <th>runtimeMinutes</th>\n",
       "      <th>genres</th>\n",
       "    </tr>\n",
       "  </thead>\n",
       "  <tbody>\n",
       "    <tr>\n",
       "      <th>0</th>\n",
       "      <td>tt0000001</td>\n",
       "      <td>short</td>\n",
       "      <td>Carmencita</td>\n",
       "      <td>Carmencita</td>\n",
       "      <td>0</td>\n",
       "      <td>1894</td>\n",
       "      <td>\\N</td>\n",
       "      <td>1</td>\n",
       "      <td>Documentary,Short</td>\n",
       "    </tr>\n",
       "    <tr>\n",
       "      <th>1</th>\n",
       "      <td>tt0000002</td>\n",
       "      <td>short</td>\n",
       "      <td>Le clown et ses chiens</td>\n",
       "      <td>Le clown et ses chiens</td>\n",
       "      <td>0</td>\n",
       "      <td>1892</td>\n",
       "      <td>\\N</td>\n",
       "      <td>5</td>\n",
       "      <td>Animation,Short</td>\n",
       "    </tr>\n",
       "    <tr>\n",
       "      <th>2</th>\n",
       "      <td>tt0000003</td>\n",
       "      <td>short</td>\n",
       "      <td>Pauvre Pierrot</td>\n",
       "      <td>Pauvre Pierrot</td>\n",
       "      <td>0</td>\n",
       "      <td>1892</td>\n",
       "      <td>\\N</td>\n",
       "      <td>4</td>\n",
       "      <td>Animation,Comedy,Romance</td>\n",
       "    </tr>\n",
       "    <tr>\n",
       "      <th>3</th>\n",
       "      <td>tt0000004</td>\n",
       "      <td>short</td>\n",
       "      <td>Un bon bock</td>\n",
       "      <td>Un bon bock</td>\n",
       "      <td>0</td>\n",
       "      <td>1892</td>\n",
       "      <td>\\N</td>\n",
       "      <td>12</td>\n",
       "      <td>Animation,Short</td>\n",
       "    </tr>\n",
       "    <tr>\n",
       "      <th>4</th>\n",
       "      <td>tt0000005</td>\n",
       "      <td>short</td>\n",
       "      <td>Blacksmith Scene</td>\n",
       "      <td>Blacksmith Scene</td>\n",
       "      <td>0</td>\n",
       "      <td>1893</td>\n",
       "      <td>\\N</td>\n",
       "      <td>1</td>\n",
       "      <td>Comedy,Short</td>\n",
       "    </tr>\n",
       "  </tbody>\n",
       "</table>\n",
       "</div>"
      ],
      "text/plain": [
       "      tconst titleType            primaryTitle           originalTitle  \\\n",
       "0  tt0000001     short              Carmencita              Carmencita   \n",
       "1  tt0000002     short  Le clown et ses chiens  Le clown et ses chiens   \n",
       "2  tt0000003     short          Pauvre Pierrot          Pauvre Pierrot   \n",
       "3  tt0000004     short             Un bon bock             Un bon bock   \n",
       "4  tt0000005     short        Blacksmith Scene        Blacksmith Scene   \n",
       "\n",
       "  isAdult startYear endYear runtimeMinutes                    genres  \n",
       "0       0      1894      \\N              1         Documentary,Short  \n",
       "1       0      1892      \\N              5           Animation,Short  \n",
       "2       0      1892      \\N              4  Animation,Comedy,Romance  \n",
       "3       0      1892      \\N             12           Animation,Short  \n",
       "4       0      1893      \\N              1              Comedy,Short  "
      ]
     },
     "execution_count": 5,
     "metadata": {},
     "output_type": "execute_result"
    }
   ],
   "source": [
    "df_basics.head()"
   ]
  },
  {
   "cell_type": "code",
   "execution_count": 6,
   "id": "03407416",
   "metadata": {},
   "outputs": [],
   "source": [
    "# Consider movies\n",
    "df_basics = df_basics[df_basics['titleType']=='movie']"
   ]
  },
  {
   "cell_type": "code",
   "execution_count": 7,
   "id": "b69b3c78",
   "metadata": {},
   "outputs": [],
   "source": [
    "# Drop Original Title and end year\n",
    "df_basics.drop(columns=['originalTitle', 'endYear'], inplace= True)"
   ]
  },
  {
   "cell_type": "code",
   "execution_count": 8,
   "id": "2b1206af",
   "metadata": {},
   "outputs": [],
   "source": [
    "# Drop rows with Start year, run time minutes and genres null\n",
    "df_basics = df_basics[df_basics['startYear']!=\"\\\\N\"]\n",
    "df_basics = df_basics[df_basics['runtimeMinutes']!=\"\\\\N\"]\n",
    "df_basics = df_basics[df_basics['genres']!=\"\\\\N\"]"
   ]
  },
  {
   "cell_type": "code",
   "execution_count": 9,
   "id": "3a8d33f7",
   "metadata": {},
   "outputs": [],
   "source": [
    "# Convert startYear, runtimeMinutes  columns to integer\n",
    "df_basics['startYear']=df_basics['startYear'].astype('int32')\n",
    "df_basics['runtimeMinutes']=df_basics['runtimeMinutes'].astype('int32')"
   ]
  },
  {
   "cell_type": "code",
   "execution_count": 10,
   "id": "e43735f2",
   "metadata": {},
   "outputs": [],
   "source": [
    "# Consider just movies filmed between 1970 and 2022\n",
    "df_basics= df_basics[(df_basics['startYear']>1970) & (df_basics['startYear']<2023)]"
   ]
  },
  {
   "cell_type": "code",
   "execution_count": 44,
   "id": "02da10ad",
   "metadata": {},
   "outputs": [],
   "source": [
    "# change /N to NaN\n",
    "df_basics.replace('\\\\N', np.nan, inplace=True)\n",
    "# rename column\n",
    "df_basics.rename(columns={'tconst': 'title_id'}, inplace=True)\n",
    "# remove nulls in names\n",
    "df_basics = df_basics[df_basics['primaryTitle'].notna()]"
   ]
  },
  {
   "cell_type": "markdown",
   "id": "94e07666",
   "metadata": {},
   "source": [
    "### Linking tables (many to many relationship)"
   ]
  },
  {
   "cell_type": "code",
   "execution_count": 12,
   "id": "46dbc7c0",
   "metadata": {},
   "outputs": [],
   "source": [
    "# 1. Create a DataFrame for the linking table (title_id, genre_name)\n",
    "df_movie_genres_exploded = df_basics[['title_id', 'genres']].copy()\n",
    "\n",
    "df_movie_genres_exploded['genres_list'] = df_movie_genres_exploded['genres'].apply(lambda x: x.split(','))\n",
    "df_movie_genres_exploded = df_movie_genres_exploded.explode('genres_list')\n",
    "df_movie_genres_exploded = df_movie_genres_exploded.rename(columns={'genres_list': 'genre_name'})\n",
    "df_movie_genres_exploded = df_movie_genres_exploded[['title_id', 'genre_name']]\n",
    "df_movie_genres_exploded['genre_name'] = df_movie_genres_exploded['genre_name'].str.strip()\n",
    "df_movie_genres_exploded.reset_index(drop=True, inplace=True)\n"
   ]
  },
  {
   "cell_type": "code",
   "execution_count": 13,
   "id": "7528c991",
   "metadata": {},
   "outputs": [
    {
     "data": {
      "text/html": [
       "<div>\n",
       "<style scoped>\n",
       "    .dataframe tbody tr th:only-of-type {\n",
       "        vertical-align: middle;\n",
       "    }\n",
       "\n",
       "    .dataframe tbody tr th {\n",
       "        vertical-align: top;\n",
       "    }\n",
       "\n",
       "    .dataframe thead th {\n",
       "        text-align: right;\n",
       "    }\n",
       "</style>\n",
       "<table border=\"1\" class=\"dataframe\">\n",
       "  <thead>\n",
       "    <tr style=\"text-align: right;\">\n",
       "      <th></th>\n",
       "      <th>title_id</th>\n",
       "      <th>genre_name</th>\n",
       "    </tr>\n",
       "  </thead>\n",
       "  <tbody>\n",
       "    <tr>\n",
       "      <th>0</th>\n",
       "      <td>tt0013274</td>\n",
       "      <td>Documentary</td>\n",
       "    </tr>\n",
       "    <tr>\n",
       "      <th>1</th>\n",
       "      <td>tt0015724</td>\n",
       "      <td>Drama</td>\n",
       "    </tr>\n",
       "    <tr>\n",
       "      <th>2</th>\n",
       "      <td>tt0015724</td>\n",
       "      <td>Mystery</td>\n",
       "    </tr>\n",
       "    <tr>\n",
       "      <th>3</th>\n",
       "      <td>tt0015724</td>\n",
       "      <td>Romance</td>\n",
       "    </tr>\n",
       "    <tr>\n",
       "      <th>4</th>\n",
       "      <td>tt0028248</td>\n",
       "      <td>Musical</td>\n",
       "    </tr>\n",
       "  </tbody>\n",
       "</table>\n",
       "</div>"
      ],
      "text/plain": [
       "    title_id   genre_name\n",
       "0  tt0013274  Documentary\n",
       "1  tt0015724        Drama\n",
       "2  tt0015724      Mystery\n",
       "3  tt0015724      Romance\n",
       "4  tt0028248      Musical"
      ]
     },
     "execution_count": 13,
     "metadata": {},
     "output_type": "execute_result"
    }
   ],
   "source": [
    "df_movie_genres_exploded.head()"
   ]
  },
  {
   "cell_type": "code",
   "execution_count": 14,
   "id": "1315ec7f",
   "metadata": {},
   "outputs": [],
   "source": [
    "# Create a DataFrame for unique genres (genre_id, genre_name)\n",
    "unique_genres = df_movie_genres_exploded['genre_name'].unique()\n",
    "df_genres_table = pd.DataFrame(unique_genres, columns=['genre_name'])"
   ]
  },
  {
   "cell_type": "code",
   "execution_count": 15,
   "id": "f6955d30",
   "metadata": {},
   "outputs": [
    {
     "data": {
      "text/html": [
       "<div>\n",
       "<style scoped>\n",
       "    .dataframe tbody tr th:only-of-type {\n",
       "        vertical-align: middle;\n",
       "    }\n",
       "\n",
       "    .dataframe tbody tr th {\n",
       "        vertical-align: top;\n",
       "    }\n",
       "\n",
       "    .dataframe thead th {\n",
       "        text-align: right;\n",
       "    }\n",
       "</style>\n",
       "<table border=\"1\" class=\"dataframe\">\n",
       "  <thead>\n",
       "    <tr style=\"text-align: right;\">\n",
       "      <th></th>\n",
       "      <th>genre_name</th>\n",
       "    </tr>\n",
       "  </thead>\n",
       "  <tbody>\n",
       "    <tr>\n",
       "      <th>0</th>\n",
       "      <td>Documentary</td>\n",
       "    </tr>\n",
       "    <tr>\n",
       "      <th>1</th>\n",
       "      <td>Drama</td>\n",
       "    </tr>\n",
       "    <tr>\n",
       "      <th>2</th>\n",
       "      <td>Mystery</td>\n",
       "    </tr>\n",
       "    <tr>\n",
       "      <th>3</th>\n",
       "      <td>Romance</td>\n",
       "    </tr>\n",
       "    <tr>\n",
       "      <th>4</th>\n",
       "      <td>Musical</td>\n",
       "    </tr>\n",
       "  </tbody>\n",
       "</table>\n",
       "</div>"
      ],
      "text/plain": [
       "    genre_name\n",
       "0  Documentary\n",
       "1        Drama\n",
       "2      Mystery\n",
       "3      Romance\n",
       "4      Musical"
      ]
     },
     "execution_count": 15,
     "metadata": {},
     "output_type": "execute_result"
    }
   ],
   "source": [
    "df_genres_table.head()"
   ]
  },
  {
   "cell_type": "code",
   "execution_count": 16,
   "id": "706b41d0",
   "metadata": {},
   "outputs": [],
   "source": [
    "df_basics.drop(columns=['genres'], inplace=True)"
   ]
  },
  {
   "cell_type": "code",
   "execution_count": 17,
   "id": "31da5c22",
   "metadata": {},
   "outputs": [],
   "source": [
    "# For cases with more than one genre, keep the first\n",
    "#df_basics['genres'] = df_basics['genres'].apply(lambda x: x.split(',')[0] if ',' in str(x) else x)"
   ]
  },
  {
   "cell_type": "markdown",
   "id": "0de1c290",
   "metadata": {},
   "source": [
    "### Crew File"
   ]
  },
  {
   "cell_type": "code",
   "execution_count": 18,
   "id": "b03c8bce",
   "metadata": {},
   "outputs": [
    {
     "data": {
      "text/html": [
       "<div>\n",
       "<style scoped>\n",
       "    .dataframe tbody tr th:only-of-type {\n",
       "        vertical-align: middle;\n",
       "    }\n",
       "\n",
       "    .dataframe tbody tr th {\n",
       "        vertical-align: top;\n",
       "    }\n",
       "\n",
       "    .dataframe thead th {\n",
       "        text-align: right;\n",
       "    }\n",
       "</style>\n",
       "<table border=\"1\" class=\"dataframe\">\n",
       "  <thead>\n",
       "    <tr style=\"text-align: right;\">\n",
       "      <th></th>\n",
       "      <th>tconst</th>\n",
       "      <th>directors</th>\n",
       "      <th>writers</th>\n",
       "    </tr>\n",
       "  </thead>\n",
       "  <tbody>\n",
       "    <tr>\n",
       "      <th>0</th>\n",
       "      <td>tt0000001</td>\n",
       "      <td>nm0005690</td>\n",
       "      <td>\\N</td>\n",
       "    </tr>\n",
       "    <tr>\n",
       "      <th>1</th>\n",
       "      <td>tt0000002</td>\n",
       "      <td>nm0721526</td>\n",
       "      <td>\\N</td>\n",
       "    </tr>\n",
       "    <tr>\n",
       "      <th>2</th>\n",
       "      <td>tt0000003</td>\n",
       "      <td>nm0721526</td>\n",
       "      <td>\\N</td>\n",
       "    </tr>\n",
       "    <tr>\n",
       "      <th>3</th>\n",
       "      <td>tt0000004</td>\n",
       "      <td>nm0721526</td>\n",
       "      <td>\\N</td>\n",
       "    </tr>\n",
       "    <tr>\n",
       "      <th>4</th>\n",
       "      <td>tt0000005</td>\n",
       "      <td>nm0005690</td>\n",
       "      <td>\\N</td>\n",
       "    </tr>\n",
       "  </tbody>\n",
       "</table>\n",
       "</div>"
      ],
      "text/plain": [
       "      tconst  directors writers\n",
       "0  tt0000001  nm0005690      \\N\n",
       "1  tt0000002  nm0721526      \\N\n",
       "2  tt0000003  nm0721526      \\N\n",
       "3  tt0000004  nm0721526      \\N\n",
       "4  tt0000005  nm0005690      \\N"
      ]
     },
     "execution_count": 18,
     "metadata": {},
     "output_type": "execute_result"
    }
   ],
   "source": [
    "df_crew.head()"
   ]
  },
  {
   "cell_type": "code",
   "execution_count": 19,
   "id": "e3c25df7",
   "metadata": {},
   "outputs": [],
   "source": [
    "# Drop Writers\n",
    "df_crew.drop(columns=['writers'], inplace= True)"
   ]
  },
  {
   "cell_type": "code",
   "execution_count": 20,
   "id": "aee44784",
   "metadata": {},
   "outputs": [],
   "source": [
    "# change /N to NaN\n",
    "df_crew.replace('\\\\N', np.nan, inplace=True)"
   ]
  },
  {
   "cell_type": "code",
   "execution_count": 21,
   "id": "a3acd395",
   "metadata": {},
   "outputs": [],
   "source": [
    "df_crew.rename(columns={'directors': 'name_id',\n",
    "                        'tconst': 'title_id'}, inplace=True)"
   ]
  },
  {
   "cell_type": "code",
   "execution_count": null,
   "id": "1204abf5",
   "metadata": {},
   "outputs": [],
   "source": [
    "# modify to get a df with titles duplicated for each director\n",
    "df_crew['name_id'] = df_crew['name_id'].astype(str)\n",
    "df_crew['name_id_list'] = df_crew['name_id'].apply(lambda x: x.split(','))\n",
    "\n",
    "\n",
    "df_crew = df_crew.explode('name_id_list').drop(columns=['name_id'])\n",
    "df_crew.rename(columns={'name_id_list': 'name_id'}, inplace=True)\n",
    "\n",
    "# Ensure director IDs are stripped of whitespace if any\n",
    "df_crew['name_id'] = df_crew['name_id'].str.strip()\n",
    "\n",
    "df_crew.reset_index(drop=True, inplace=True)"
   ]
  },
  {
   "cell_type": "code",
   "execution_count": 23,
   "id": "ae332b0b",
   "metadata": {},
   "outputs": [
    {
     "data": {
      "text/html": [
       "<div>\n",
       "<style scoped>\n",
       "    .dataframe tbody tr th:only-of-type {\n",
       "        vertical-align: middle;\n",
       "    }\n",
       "\n",
       "    .dataframe tbody tr th {\n",
       "        vertical-align: top;\n",
       "    }\n",
       "\n",
       "    .dataframe thead th {\n",
       "        text-align: right;\n",
       "    }\n",
       "</style>\n",
       "<table border=\"1\" class=\"dataframe\">\n",
       "  <thead>\n",
       "    <tr style=\"text-align: right;\">\n",
       "      <th></th>\n",
       "      <th>title_id</th>\n",
       "      <th>name_id</th>\n",
       "    </tr>\n",
       "  </thead>\n",
       "  <tbody>\n",
       "    <tr>\n",
       "      <th>0</th>\n",
       "      <td>tt0000001</td>\n",
       "      <td>nm0005690</td>\n",
       "    </tr>\n",
       "    <tr>\n",
       "      <th>1</th>\n",
       "      <td>tt0000002</td>\n",
       "      <td>nm0721526</td>\n",
       "    </tr>\n",
       "    <tr>\n",
       "      <th>2</th>\n",
       "      <td>tt0000003</td>\n",
       "      <td>nm0721526</td>\n",
       "    </tr>\n",
       "    <tr>\n",
       "      <th>3</th>\n",
       "      <td>tt0000004</td>\n",
       "      <td>nm0721526</td>\n",
       "    </tr>\n",
       "    <tr>\n",
       "      <th>4</th>\n",
       "      <td>tt0000005</td>\n",
       "      <td>nm0005690</td>\n",
       "    </tr>\n",
       "  </tbody>\n",
       "</table>\n",
       "</div>"
      ],
      "text/plain": [
       "    title_id    name_id\n",
       "0  tt0000001  nm0005690\n",
       "1  tt0000002  nm0721526\n",
       "2  tt0000003  nm0721526\n",
       "3  tt0000004  nm0721526\n",
       "4  tt0000005  nm0005690"
      ]
     },
     "execution_count": 23,
     "metadata": {},
     "output_type": "execute_result"
    }
   ],
   "source": [
    "df_crew.head()"
   ]
  },
  {
   "cell_type": "markdown",
   "id": "cb39e58c",
   "metadata": {},
   "source": [
    "### Names File"
   ]
  },
  {
   "cell_type": "code",
   "execution_count": 24,
   "id": "6101efc5",
   "metadata": {},
   "outputs": [
    {
     "data": {
      "text/html": [
       "<div>\n",
       "<style scoped>\n",
       "    .dataframe tbody tr th:only-of-type {\n",
       "        vertical-align: middle;\n",
       "    }\n",
       "\n",
       "    .dataframe tbody tr th {\n",
       "        vertical-align: top;\n",
       "    }\n",
       "\n",
       "    .dataframe thead th {\n",
       "        text-align: right;\n",
       "    }\n",
       "</style>\n",
       "<table border=\"1\" class=\"dataframe\">\n",
       "  <thead>\n",
       "    <tr style=\"text-align: right;\">\n",
       "      <th></th>\n",
       "      <th>nconst</th>\n",
       "      <th>primaryName</th>\n",
       "      <th>birthYear</th>\n",
       "      <th>deathYear</th>\n",
       "      <th>primaryProfession</th>\n",
       "      <th>knownForTitles</th>\n",
       "    </tr>\n",
       "  </thead>\n",
       "  <tbody>\n",
       "    <tr>\n",
       "      <th>0</th>\n",
       "      <td>nm0000001</td>\n",
       "      <td>Fred Astaire</td>\n",
       "      <td>1899</td>\n",
       "      <td>1987</td>\n",
       "      <td>soundtrack,actor,miscellaneous</td>\n",
       "      <td>tt0027125,tt0050419,tt0053137,tt0072308</td>\n",
       "    </tr>\n",
       "    <tr>\n",
       "      <th>1</th>\n",
       "      <td>nm0000002</td>\n",
       "      <td>Lauren Bacall</td>\n",
       "      <td>1924</td>\n",
       "      <td>2014</td>\n",
       "      <td>actress,soundtrack</td>\n",
       "      <td>tt0117057,tt0075213,tt0038355,tt0037382</td>\n",
       "    </tr>\n",
       "    <tr>\n",
       "      <th>2</th>\n",
       "      <td>nm0000003</td>\n",
       "      <td>Brigitte Bardot</td>\n",
       "      <td>1934</td>\n",
       "      <td>\\N</td>\n",
       "      <td>actress,soundtrack,music_department</td>\n",
       "      <td>tt0049189,tt0054452,tt0056404,tt0057345</td>\n",
       "    </tr>\n",
       "    <tr>\n",
       "      <th>3</th>\n",
       "      <td>nm0000004</td>\n",
       "      <td>John Belushi</td>\n",
       "      <td>1949</td>\n",
       "      <td>1982</td>\n",
       "      <td>actor,soundtrack,writer</td>\n",
       "      <td>tt0080455,tt0072562,tt0077975,tt0078723</td>\n",
       "    </tr>\n",
       "    <tr>\n",
       "      <th>4</th>\n",
       "      <td>nm0000005</td>\n",
       "      <td>Ingmar Bergman</td>\n",
       "      <td>1918</td>\n",
       "      <td>2007</td>\n",
       "      <td>writer,director,actor</td>\n",
       "      <td>tt0050986,tt0069467,tt0083922,tt0050976</td>\n",
       "    </tr>\n",
       "  </tbody>\n",
       "</table>\n",
       "</div>"
      ],
      "text/plain": [
       "      nconst      primaryName birthYear deathYear  \\\n",
       "0  nm0000001     Fred Astaire      1899      1987   \n",
       "1  nm0000002    Lauren Bacall      1924      2014   \n",
       "2  nm0000003  Brigitte Bardot      1934        \\N   \n",
       "3  nm0000004     John Belushi      1949      1982   \n",
       "4  nm0000005   Ingmar Bergman      1918      2007   \n",
       "\n",
       "                     primaryProfession  \\\n",
       "0       soundtrack,actor,miscellaneous   \n",
       "1                   actress,soundtrack   \n",
       "2  actress,soundtrack,music_department   \n",
       "3              actor,soundtrack,writer   \n",
       "4                writer,director,actor   \n",
       "\n",
       "                            knownForTitles  \n",
       "0  tt0027125,tt0050419,tt0053137,tt0072308  \n",
       "1  tt0117057,tt0075213,tt0038355,tt0037382  \n",
       "2  tt0049189,tt0054452,tt0056404,tt0057345  \n",
       "3  tt0080455,tt0072562,tt0077975,tt0078723  \n",
       "4  tt0050986,tt0069467,tt0083922,tt0050976  "
      ]
     },
     "execution_count": 24,
     "metadata": {},
     "output_type": "execute_result"
    }
   ],
   "source": [
    "df_names.head()"
   ]
  },
  {
   "cell_type": "code",
   "execution_count": 25,
   "id": "cb20103c",
   "metadata": {},
   "outputs": [],
   "source": [
    "# Rename column of directors for later merge\n",
    "df_names = df_names.rename(columns={'nconst':'name_id'})"
   ]
  },
  {
   "cell_type": "code",
   "execution_count": 26,
   "id": "ecc66810",
   "metadata": {},
   "outputs": [],
   "source": [
    "df_names.drop(columns=['deathYear', 'primaryProfession', 'knownForTitles'], inplace= True)"
   ]
  },
  {
   "cell_type": "code",
   "execution_count": 39,
   "id": "1ad799f7",
   "metadata": {},
   "outputs": [],
   "source": [
    "# change /N to NaN\n",
    "df_names.replace('\\\\N', np.nan, inplace=True)\n",
    "\n",
    "# drop null names\n",
    "df_names = df_names[df_names['primaryName'].notna()]"
   ]
  },
  {
   "cell_type": "code",
   "execution_count": 40,
   "id": "c1e78f4c",
   "metadata": {},
   "outputs": [
    {
     "data": {
      "text/html": [
       "<div>\n",
       "<style scoped>\n",
       "    .dataframe tbody tr th:only-of-type {\n",
       "        vertical-align: middle;\n",
       "    }\n",
       "\n",
       "    .dataframe tbody tr th {\n",
       "        vertical-align: top;\n",
       "    }\n",
       "\n",
       "    .dataframe thead th {\n",
       "        text-align: right;\n",
       "    }\n",
       "</style>\n",
       "<table border=\"1\" class=\"dataframe\">\n",
       "  <thead>\n",
       "    <tr style=\"text-align: right;\">\n",
       "      <th></th>\n",
       "      <th>name_id</th>\n",
       "      <th>primaryName</th>\n",
       "      <th>birthYear</th>\n",
       "    </tr>\n",
       "  </thead>\n",
       "  <tbody>\n",
       "    <tr>\n",
       "      <th>0</th>\n",
       "      <td>nm0000001</td>\n",
       "      <td>Fred Astaire</td>\n",
       "      <td>1899</td>\n",
       "    </tr>\n",
       "    <tr>\n",
       "      <th>1</th>\n",
       "      <td>nm0000002</td>\n",
       "      <td>Lauren Bacall</td>\n",
       "      <td>1924</td>\n",
       "    </tr>\n",
       "    <tr>\n",
       "      <th>2</th>\n",
       "      <td>nm0000003</td>\n",
       "      <td>Brigitte Bardot</td>\n",
       "      <td>1934</td>\n",
       "    </tr>\n",
       "    <tr>\n",
       "      <th>3</th>\n",
       "      <td>nm0000004</td>\n",
       "      <td>John Belushi</td>\n",
       "      <td>1949</td>\n",
       "    </tr>\n",
       "    <tr>\n",
       "      <th>4</th>\n",
       "      <td>nm0000005</td>\n",
       "      <td>Ingmar Bergman</td>\n",
       "      <td>1918</td>\n",
       "    </tr>\n",
       "  </tbody>\n",
       "</table>\n",
       "</div>"
      ],
      "text/plain": [
       "     name_id      primaryName birthYear\n",
       "0  nm0000001     Fred Astaire      1899\n",
       "1  nm0000002    Lauren Bacall      1924\n",
       "2  nm0000003  Brigitte Bardot      1934\n",
       "3  nm0000004     John Belushi      1949\n",
       "4  nm0000005   Ingmar Bergman      1918"
      ]
     },
     "execution_count": 40,
     "metadata": {},
     "output_type": "execute_result"
    }
   ],
   "source": [
    "df_names.head()"
   ]
  },
  {
   "cell_type": "markdown",
   "id": "fb4012c3",
   "metadata": {},
   "source": [
    "### Ratings File"
   ]
  },
  {
   "cell_type": "code",
   "execution_count": 29,
   "id": "cc5fbf4a",
   "metadata": {},
   "outputs": [
    {
     "data": {
      "text/html": [
       "<div>\n",
       "<style scoped>\n",
       "    .dataframe tbody tr th:only-of-type {\n",
       "        vertical-align: middle;\n",
       "    }\n",
       "\n",
       "    .dataframe tbody tr th {\n",
       "        vertical-align: top;\n",
       "    }\n",
       "\n",
       "    .dataframe thead th {\n",
       "        text-align: right;\n",
       "    }\n",
       "</style>\n",
       "<table border=\"1\" class=\"dataframe\">\n",
       "  <thead>\n",
       "    <tr style=\"text-align: right;\">\n",
       "      <th></th>\n",
       "      <th>tconst</th>\n",
       "      <th>averageRating</th>\n",
       "      <th>numVotes</th>\n",
       "    </tr>\n",
       "  </thead>\n",
       "  <tbody>\n",
       "    <tr>\n",
       "      <th>0</th>\n",
       "      <td>tt0000001</td>\n",
       "      <td>5.7</td>\n",
       "      <td>2014</td>\n",
       "    </tr>\n",
       "    <tr>\n",
       "      <th>1</th>\n",
       "      <td>tt0000002</td>\n",
       "      <td>5.7</td>\n",
       "      <td>270</td>\n",
       "    </tr>\n",
       "    <tr>\n",
       "      <th>2</th>\n",
       "      <td>tt0000003</td>\n",
       "      <td>6.5</td>\n",
       "      <td>1937</td>\n",
       "    </tr>\n",
       "    <tr>\n",
       "      <th>3</th>\n",
       "      <td>tt0000004</td>\n",
       "      <td>5.5</td>\n",
       "      <td>178</td>\n",
       "    </tr>\n",
       "    <tr>\n",
       "      <th>4</th>\n",
       "      <td>tt0000005</td>\n",
       "      <td>6.2</td>\n",
       "      <td>2712</td>\n",
       "    </tr>\n",
       "  </tbody>\n",
       "</table>\n",
       "</div>"
      ],
      "text/plain": [
       "      tconst  averageRating  numVotes\n",
       "0  tt0000001            5.7      2014\n",
       "1  tt0000002            5.7       270\n",
       "2  tt0000003            6.5      1937\n",
       "3  tt0000004            5.5       178\n",
       "4  tt0000005            6.2      2712"
      ]
     },
     "execution_count": 29,
     "metadata": {},
     "output_type": "execute_result"
    }
   ],
   "source": [
    "df_ratings.head()"
   ]
  },
  {
   "cell_type": "code",
   "execution_count": 30,
   "id": "f90e1731",
   "metadata": {},
   "outputs": [],
   "source": [
    "# change /N to NaN\n",
    "df_ratings.replace('\\\\N', np.nan, inplace=True)\n",
    "# rename column\n",
    "df_ratings.rename(columns={'tconst': 'title_id'}, inplace=True)"
   ]
  },
  {
   "cell_type": "markdown",
   "id": "c212866a",
   "metadata": {},
   "source": [
    "## Creating SQL tables"
   ]
  },
  {
   "cell_type": "code",
   "execution_count": null,
   "id": "085ff65d",
   "metadata": {},
   "outputs": [
    {
     "name": "stdout",
     "output_type": "stream",
     "text": [
      "Base de datos creada/conectada en: /Users/leonardomichelramirez/code/PersonalProjects/ML-Movie_recommendator_v2/data/imdb_movies.db\n"
     ]
    }
   ],
   "source": [
    "# defining a path and creating sqllite connection\n",
    "db_directory = os.path.join(base_folder,'data')\n",
    "db_path_relative = os.path.join(db_directory, 'imdb_movies.db')\n"
   ]
  },
  {
   "cell_type": "code",
   "execution_count": 47,
   "id": "9526442d",
   "metadata": {},
   "outputs": [
    {
     "name": "stdout",
     "output_type": "stream",
     "text": [
      "Base de datos creada/conectada en: /Users/leonardomichelramirez/code/PersonalProjects/ML-Movie_recommendator_v2/data/imdb_movies.db\n",
      "Tablas creadas/recreadas correctamente.\n"
     ]
    }
   ],
   "source": [
    "conn = sqlite3.connect(db_path_relative)\n",
    "print(f\"Base de datos creada/conectada en: {os.path.abspath(db_path_relative)}\")\n",
    "cursor = conn.cursor()\n",
    "\n",
    "sql_schema_query = \"\"\"\n",
    "DROP TABLE IF EXISTS names;\n",
    "\n",
    "CREATE TABLE names (\n",
    "    name_id VARCHAR(50) NOT NULL,\n",
    "    primaryName VARCHAR(256) NOT NULL,\n",
    "    birthYear INT,\n",
    "    PRIMARY KEY (name_id)\n",
    ");\n",
    "\n",
    "DROP TABLE IF EXISTS genres;\n",
    "\n",
    "CREATE TABLE genres (\n",
    "    genre_name VARCHAR(100) NOT NULL,\n",
    "    PRIMARY KEY (genre_name)\n",
    ");\n",
    "\n",
    "DROP TABLE IF EXISTS titles;\n",
    "\n",
    "CREATE TABLE titles (\n",
    "    title_id VARCHAR(50) NOT NULL,\n",
    "    titleType VARCHAR(50) NOT NULL,\n",
    "    primaryTitle VARCHAR(300) NOT NULL,\n",
    "    isAdult INT,\n",
    "    startYear INT,\n",
    "    runtimeMinutes INT,\n",
    "    PRIMARY KEY (title_id)\n",
    ");\n",
    "\n",
    "DROP TABLE IF EXISTS crew;\n",
    "\n",
    "CREATE TABLE crew (\n",
    "    title_id VARCHAR(50) NOT NULL,\n",
    "    name_id VARCHAR(50) NOT NULL,\n",
    "    PRIMARY KEY (title_id, name_id),\n",
    "    FOREIGN KEY (title_id) REFERENCES titles (title_id),\n",
    "    FOREIGN KEY (name_id) REFERENCES names (name_id)\n",
    ");\n",
    "\n",
    "DROP TABLE IF EXISTS ratings;\n",
    "\n",
    "CREATE TABLE ratings (\n",
    "    title_id VARCHAR(50) NOT NULL,\n",
    "    averageRating FLOAT NOT NULL,\n",
    "    numVotes INT NOT NULL,\n",
    "    PRIMARY KEY (title_id),\n",
    "    FOREIGN KEY (title_id) REFERENCES titles (title_id)\n",
    ");\n",
    "\n",
    "\n",
    "DROP TABLE IF EXISTS titles_genres;\n",
    "\n",
    "CREATE TABLE titles_genres (\n",
    "    title_id VARCHAR(50) NOT NULL,\n",
    "    genre_name VARCHAR(100) NOT NULL,\n",
    "    PRIMARY KEY (title_id, genre_name),\n",
    "    FOREIGN KEY (title_id) REFERENCES titles (title_id),\n",
    "    FOREIGN KEY (genre_name) REFERENCES genres (genre_name)\n",
    ");\n",
    "\n",
    "\n",
    "\"\"\"\n",
    "\n",
    "try:\n",
    "    cursor.executescript(sql_schema_query)\n",
    "    conn.commit()\n",
    "    print(\"Tablas creadas/recreadas correctamente.\")\n",
    "except sqlite3.Error as e:\n",
    "    print(f\"Error al crear tablas: {e}\")\n",
    "    conn.close()\n",
    "    exit()"
   ]
  },
  {
   "cell_type": "markdown",
   "id": "66f954e9",
   "metadata": {},
   "source": [
    "## Data Insertion"
   ]
  },
  {
   "cell_type": "code",
   "execution_count": 48,
   "id": "cc3d62a8",
   "metadata": {},
   "outputs": [
    {
     "name": "stdout",
     "output_type": "stream",
     "text": [
      "Datos insertados en la tabla 'names'.\n",
      "Datos insertados en la tabla 'genres'.\n",
      "Datos insertados en la tabla 'titles'.\n",
      "Datos insertados en la tabla 'crew'.\n",
      "Datos insertados en la tabla 'titles_genres'.\n",
      "Datos insertados en la tabla 'ratings'.\n",
      "\n",
      "¡Todos los datos han sido insertados y confirmados en la base de datos!\n",
      "Conexión a la base de datos cerrada.\n"
     ]
    }
   ],
   "source": [
    "try:\n",
    "    # 1. Insertar en 'names' (tabla principal)\n",
    "    df_names.to_sql('names', conn, if_exists='append', index=False)\n",
    "    print(\"Datos insertados en la tabla 'names'.\")\n",
    "\n",
    "    # 2. Insertar en 'genres' (tabla principal)\n",
    "    df_genres_table.to_sql('genres', conn, if_exists='append', index=False)\n",
    "    print(\"Datos insertados en la tabla 'genres'.\")\n",
    "\n",
    "    # 3. Insertar en 'titles' (tabla principal)\n",
    "    df_basics.to_sql('titles', conn, if_exists='append', index=False)\n",
    "    print(\"Datos insertados en la tabla 'titles'.\")\n",
    "\n",
    "    # 4. Insertar en 'crew' (tabla de enlace, depende de 'names' y 'titles')\n",
    "    df_crew.to_sql('crew', conn, if_exists='append', index=False)\n",
    "    print(\"Datos insertados en la tabla 'crew'.\")\n",
    "\n",
    "    # 5. Insertar en 'titles_genres' (tabla de enlace, depende de 'titles' y 'genres')\n",
    "    df_movie_genres_exploded.to_sql('titles_genres', conn, if_exists='append', index=False)\n",
    "    print(\"Datos insertados en la tabla 'titles_genres'.\")\n",
    "\n",
    "    # 6. Insertar en 'ratings' (tabla dependiente, depende de 'titles')\n",
    "    df_ratings.to_sql('ratings', conn, if_exists='append', index=False)\n",
    "    print(\"Datos insertados en la tabla 'ratings'.\")\n",
    "\n",
    "    # Confirmar todas las inserciones\n",
    "    conn.commit()\n",
    "    print(\"\\n¡Todos los datos han sido insertados y confirmados en la base de datos!\")\n",
    "\n",
    "except sqlite3.Error as e:\n",
    "    print(f\"\\n¡Error durante la inserción de datos! Error: {e}\")\n",
    "    conn.rollback() # Revierte cualquier cambio si hubo un error\n",
    "finally:\n",
    "    conn.close()\n",
    "    print(\"Conexión a la base de datos cerrada.\")"
   ]
  },
  {
   "cell_type": "markdown",
   "id": "37c545a3",
   "metadata": {},
   "source": [
    "## Test Queries"
   ]
  },
  {
   "cell_type": "code",
   "execution_count": 49,
   "id": "d1d78162",
   "metadata": {},
   "outputs": [
    {
     "name": "stdout",
     "output_type": "stream",
     "text": [
      "Base de datos creada/conectada en: /Users/leonardomichelramirez/code/PersonalProjects/ML-Movie_recommendator_v2/data/imdb_movies.db\n"
     ]
    }
   ],
   "source": [
    "conn = sqlite3.connect(db_path_relative)\n",
    "print(f\"Base de datos creada/conectada en: {os.path.abspath(db_path_relative)}\")\n",
    "cursor = conn.cursor()\n",
    "\n",
    "cursor.execute(\"SELECT name FROM sqlite_master WHERE type='table';\")\n",
    "tables = cursor.fetchall() # Obtiene todos los resultados"
   ]
  },
  {
   "cell_type": "code",
   "execution_count": 50,
   "id": "98614423",
   "metadata": {},
   "outputs": [
    {
     "data": {
      "text/plain": [
       "[('names',),\n",
       " ('genres',),\n",
       " ('titles',),\n",
       " ('crew',),\n",
       " ('ratings',),\n",
       " ('titles_genres',)]"
      ]
     },
     "execution_count": 50,
     "metadata": {},
     "output_type": "execute_result"
    }
   ],
   "source": [
    "tables"
   ]
  },
  {
   "cell_type": "code",
   "execution_count": 51,
   "id": "be3fe5df",
   "metadata": {},
   "outputs": [],
   "source": [
    "test_query = \"\"\"\n",
    "select *\n",
    "from titles t\n",
    "limit 10;\n",
    "\"\"\"\n",
    "\n",
    "df_titles_sample = pd.read_sql_query(test_query, conn)"
   ]
  },
  {
   "cell_type": "code",
   "execution_count": 52,
   "id": "4db0eddb",
   "metadata": {},
   "outputs": [
    {
     "data": {
      "text/html": [
       "<div>\n",
       "<style scoped>\n",
       "    .dataframe tbody tr th:only-of-type {\n",
       "        vertical-align: middle;\n",
       "    }\n",
       "\n",
       "    .dataframe tbody tr th {\n",
       "        vertical-align: top;\n",
       "    }\n",
       "\n",
       "    .dataframe thead th {\n",
       "        text-align: right;\n",
       "    }\n",
       "</style>\n",
       "<table border=\"1\" class=\"dataframe\">\n",
       "  <thead>\n",
       "    <tr style=\"text-align: right;\">\n",
       "      <th></th>\n",
       "      <th>title_id</th>\n",
       "      <th>titleType</th>\n",
       "      <th>primaryTitle</th>\n",
       "      <th>isAdult</th>\n",
       "      <th>startYear</th>\n",
       "      <th>runtimeMinutes</th>\n",
       "    </tr>\n",
       "  </thead>\n",
       "  <tbody>\n",
       "    <tr>\n",
       "      <th>0</th>\n",
       "      <td>tt0013274</td>\n",
       "      <td>movie</td>\n",
       "      <td>Istoriya grazhdanskoy voyny</td>\n",
       "      <td>0</td>\n",
       "      <td>2021</td>\n",
       "      <td>94</td>\n",
       "    </tr>\n",
       "    <tr>\n",
       "      <th>1</th>\n",
       "      <td>tt0015724</td>\n",
       "      <td>movie</td>\n",
       "      <td>Dama de noche</td>\n",
       "      <td>0</td>\n",
       "      <td>1993</td>\n",
       "      <td>102</td>\n",
       "    </tr>\n",
       "    <tr>\n",
       "      <th>2</th>\n",
       "      <td>tt0028248</td>\n",
       "      <td>movie</td>\n",
       "      <td>Shipmates o' Mine</td>\n",
       "      <td>0</td>\n",
       "      <td>2022</td>\n",
       "      <td>87</td>\n",
       "    </tr>\n",
       "    <tr>\n",
       "      <th>3</th>\n",
       "      <td>tt0035423</td>\n",
       "      <td>movie</td>\n",
       "      <td>Kate &amp; Leopold</td>\n",
       "      <td>0</td>\n",
       "      <td>2001</td>\n",
       "      <td>118</td>\n",
       "    </tr>\n",
       "    <tr>\n",
       "      <th>4</th>\n",
       "      <td>tt0036606</td>\n",
       "      <td>movie</td>\n",
       "      <td>Another Time, Another Place</td>\n",
       "      <td>0</td>\n",
       "      <td>1983</td>\n",
       "      <td>118</td>\n",
       "    </tr>\n",
       "    <tr>\n",
       "      <th>5</th>\n",
       "      <td>tt0038687</td>\n",
       "      <td>movie</td>\n",
       "      <td>Let There Be Light</td>\n",
       "      <td>0</td>\n",
       "      <td>1980</td>\n",
       "      <td>58</td>\n",
       "    </tr>\n",
       "    <tr>\n",
       "      <th>6</th>\n",
       "      <td>tt0039442</td>\n",
       "      <td>movie</td>\n",
       "      <td>Habla, mudita</td>\n",
       "      <td>0</td>\n",
       "      <td>1973</td>\n",
       "      <td>88</td>\n",
       "    </tr>\n",
       "    <tr>\n",
       "      <th>7</th>\n",
       "      <td>tt0044952</td>\n",
       "      <td>movie</td>\n",
       "      <td>Nagarik</td>\n",
       "      <td>0</td>\n",
       "      <td>1977</td>\n",
       "      <td>127</td>\n",
       "    </tr>\n",
       "    <tr>\n",
       "      <th>8</th>\n",
       "      <td>tt0054724</td>\n",
       "      <td>movie</td>\n",
       "      <td>I Eat Your Skin</td>\n",
       "      <td>0</td>\n",
       "      <td>1971</td>\n",
       "      <td>92</td>\n",
       "    </tr>\n",
       "    <tr>\n",
       "      <th>9</th>\n",
       "      <td>tt0057461</td>\n",
       "      <td>movie</td>\n",
       "      <td>La rosa de los vientos</td>\n",
       "      <td>0</td>\n",
       "      <td>1983</td>\n",
       "      <td>84</td>\n",
       "    </tr>\n",
       "  </tbody>\n",
       "</table>\n",
       "</div>"
      ],
      "text/plain": [
       "    title_id titleType                 primaryTitle  isAdult  startYear  \\\n",
       "0  tt0013274     movie  Istoriya grazhdanskoy voyny        0       2021   \n",
       "1  tt0015724     movie                Dama de noche        0       1993   \n",
       "2  tt0028248     movie            Shipmates o' Mine        0       2022   \n",
       "3  tt0035423     movie               Kate & Leopold        0       2001   \n",
       "4  tt0036606     movie  Another Time, Another Place        0       1983   \n",
       "5  tt0038687     movie           Let There Be Light        0       1980   \n",
       "6  tt0039442     movie                Habla, mudita        0       1973   \n",
       "7  tt0044952     movie                      Nagarik        0       1977   \n",
       "8  tt0054724     movie              I Eat Your Skin        0       1971   \n",
       "9  tt0057461     movie       La rosa de los vientos        0       1983   \n",
       "\n",
       "   runtimeMinutes  \n",
       "0              94  \n",
       "1             102  \n",
       "2              87  \n",
       "3             118  \n",
       "4             118  \n",
       "5              58  \n",
       "6              88  \n",
       "7             127  \n",
       "8              92  \n",
       "9              84  "
      ]
     },
     "execution_count": 52,
     "metadata": {},
     "output_type": "execute_result"
    }
   ],
   "source": [
    "df_titles_sample"
   ]
  },
  {
   "cell_type": "code",
   "execution_count": null,
   "id": "7b2b2e18",
   "metadata": {},
   "outputs": [],
   "source": []
  }
 ],
 "metadata": {
  "kernelspec": {
   "display_name": "ds_movie_2",
   "language": "python",
   "name": "python3"
  },
  "language_info": {
   "codemirror_mode": {
    "name": "ipython",
    "version": 3
   },
   "file_extension": ".py",
   "mimetype": "text/x-python",
   "name": "python",
   "nbconvert_exporter": "python",
   "pygments_lexer": "ipython3",
   "version": "3.12.9"
  },
  "toc": {
   "base_numbering": 1,
   "nav_menu": {},
   "number_sections": true,
   "sideBar": true,
   "skip_h1_title": false,
   "title_cell": "Table of Contents",
   "title_sidebar": "Contents",
   "toc_cell": false,
   "toc_position": {},
   "toc_section_display": true,
   "toc_window_display": false
  }
 },
 "nbformat": 4,
 "nbformat_minor": 5
}
